{
 "cells": [
  {
   "cell_type": "code",
   "execution_count": 1,
   "id": "8953ff52",
   "metadata": {},
   "outputs": [],
   "source": [
    "import zipfile\n",
    "import scipy.io as sio\n",
    "import io\n",
    "from typing import Dict, Any, Optional\n",
    "\n",
    "def load_mat_from_zip(zip_path: str) -> Optional[Dict[str, Any]]:\n",
    "    with zipfile.ZipFile(zip_path, 'r') as zf:\n",
    "        mat_file_name = next((name for name in zf.namelist() if name.endswith('.mat')), None)\n",
    "        \n",
    "        if not mat_file_name:\n",
    "            print(f\"在 {zip_path} 中未找到.mat文件。\")\n",
    "            return None\n",
    "        \n",
    "        mat_bytes = zf.read(mat_file_name)\n",
    "        mat_stream = io.BytesIO(mat_bytes)\n",
    "        mat_contents = sio.loadmat(mat_stream)\n",
    "        return mat_contents\n"
   ]
  },
  {
   "cell_type": "code",
   "execution_count": 2,
   "id": "fd1599b9",
   "metadata": {},
   "outputs": [
    {
     "name": "stdout",
     "output_type": "stream",
     "text": [
      "var_name: preictal_segment_2\n",
      "data: (15, 3000000)\n",
      "data_length_sec: 600\n",
      "sampling_frequency: 5000\n",
      "channels: [array(['LD_1'], dtype='<U4') array(['LD_3'], dtype='<U4')\n",
      " array(['LD_4'], dtype='<U4') array(['LD_5'], dtype='<U4')\n",
      " array(['LD_6'], dtype='<U4') array(['LD_7'], dtype='<U4')\n",
      " array(['LD_8'], dtype='<U4') array(['RD_1'], dtype='<U4')\n",
      " array(['RD_2'], dtype='<U4') array(['RD_3'], dtype='<U4')\n",
      " array(['RD_4'], dtype='<U4') array(['RD_5'], dtype='<U4')\n",
      " array(['RD_6'], dtype='<U4') array(['RD_7'], dtype='<U4')\n",
      " array(['RD_8'], dtype='<U4')]\n",
      "sequence: 2\n"
     ]
    }
   ],
   "source": [
    "# --- 使用示例 ---\n",
    "zip_file = 'test_data/Patient_1_preictal_segment_0002.mat.zip'\n",
    "mat_data = load_mat_from_zip(zip_file)\n",
    "var_name = list(mat_data.keys())[-1]\n",
    "print(f\"var_name: {var_name}\")\n",
    "\n",
    "print(f\"data: {mat_data[var_name][0][0][0].shape}\")\n",
    "print(f\"data_length_sec: {mat_data[var_name][0][0][1][0][0]}\")\n",
    "print(f\"sampling_frequency: {mat_data[var_name][0][0][2][0][0]}\")\n",
    "print(f\"channels: {mat_data[var_name][0][0][3][0]}\")\n",
    "print(f\"sequence: {mat_data[var_name][0][0][4][0][0]}\")"
   ]
  },
  {
   "cell_type": "code",
   "execution_count": 3,
   "id": "45105c96",
   "metadata": {},
   "outputs": [],
   "source": [
    "import mne\n",
    "\n",
    "def load_mat_to_mne(file_path, ch_type, target_sfreq=None):\n",
    "    data_bundle = load_mat_from_zip(file_path)\n",
    "    var_name = list(data_bundle.keys())[-1]\n",
    "    data = data_bundle[var_name][0][0][0] * 1e-6\n",
    "    sf = data_bundle[var_name][0][0][2][0][0]\n",
    "    channels = [arr[0] for arr in data_bundle[var_name][0][0][3][0]]\n",
    "    num_channels = len(channels)\n",
    "\n",
    "    info = mne.create_info(ch_names=channels, sfreq=sf, ch_types=[ch_type] * num_channels)\n",
    "    raw = mne.io.RawArray(data, info, verbose=False)\n",
    "    if target_sfreq is not None and target_sfreq != sf:\n",
    "        raw.resample(target_sfreq, verbose=False)\n",
    "    return raw"
   ]
  },
  {
   "cell_type": "code",
   "execution_count": 4,
   "id": "dd901a0c",
   "metadata": {},
   "outputs": [
    {
     "name": "stdout",
     "output_type": "stream",
     "text": [
      "sf: 500.0\n",
      "num_channels: 15\n",
      "channels: ['LD_1', 'LD_3', 'LD_4', 'LD_5', 'LD_6', 'LD_7', 'LD_8', 'RD_1', 'RD_2', 'RD_3', 'RD_4', 'RD_5', 'RD_6', 'RD_7', 'RD_8']\n",
      "interictal_train_data: (15, 300000)\n"
     ]
    }
   ],
   "source": [
    "import numpy as np\n",
    "from seizure_detector import HDCClassifier, PostProcessor\n",
    "\n",
    "interictal_train_file = 'test_data/Patient_1_interictal_segment_0001.mat.zip'\n",
    "interictal_train_raw = load_mat_to_mne(interictal_train_file, 'seeg', 500)\n",
    "num_channels = len(interictal_train_raw.ch_names)\n",
    "\n",
    "print(f\"sf: {interictal_train_raw.info['sfreq']}\")\n",
    "print(f\"num_channels: {num_channels}\")\n",
    "print(f\"channels: {interictal_train_raw.ch_names}\")\n",
    "print(f\"interictal_train_data: {interictal_train_raw.get_data().shape}\")\n",
    "\n",
    "# 我只找到了含有 preictal 标注的数据，假设其是 ictal\n",
    "ictal_train_file = 'test_data/Patient_1_preictal_segment_0001.mat.zip'\n",
    "ictal_train_raw = load_mat_to_mne(ictal_train_file, 'seeg', 500)"
   ]
  },
  {
   "cell_type": "code",
   "execution_count": 5,
   "id": "68ef4b8a",
   "metadata": {},
   "outputs": [
    {
     "name": "stdout",
     "output_type": "stream",
     "text": [
      "Updating Ictal prototype...\n",
      "Updating Interictal prototype...\n",
      "Calculating confidence threshold (tr) using 20th percentile...\n",
      "Confidence threshold (tr) automatically set to: 2763.00\n"
     ]
    }
   ],
   "source": [
    "ictal_train_data = ictal_train_raw.get_data()\n",
    "interictal_train_data = interictal_train_raw.get_data()\n",
    "sf = interictal_train_raw.info['sfreq']\n",
    "num_channels = len(interictal_train_raw.ch_names)\n",
    "\n",
    "classifier = HDCClassifier(num_channels=num_channels, tr_percentile=20)\n",
    "post_processor = PostProcessor(tc_threshold=7)\n",
    "\n",
    "classifier.train(ictal_train_data, 'ictal', sf)\n",
    "classifier.train(interictal_train_data, 'interictal', sf)\n",
    "classifier.calculate_tr_threshold([ictal_train_data], sf)\n",
    "post_processor.tr_threshold = classifier.tr_threshold"
   ]
  },
  {
   "cell_type": "code",
   "execution_count": 61,
   "id": "976d7309",
   "metadata": {},
   "outputs": [
    {
     "name": "stdout",
     "output_type": "stream",
     "text": [
      "  - Ictal 1: Final Decision -> SEIZURE\n",
      "  - Ictal 2: Final Decision -> SEIZURE\n",
      "  - Ictal 3: Final Decision -> SEIZURE\n",
      "  - Ictal 4: Final Decision -> SEIZURE\n",
      "  - Ictal 5: Final Decision -> SEIZURE\n"
     ]
    }
   ],
   "source": [
    "# Ictal Test\n",
    "for i in range(1, 6):\n",
    "    ictal_test_file = f'test_data/Patient_1_preictal_segment_000{i}.mat.zip'\n",
    "    ictal_test_raw = load_mat_to_mne(ictal_test_file, 'seeg', 500)\n",
    "    ictal_test_data = ictal_test_raw.get_data()\n",
    "    \n",
    "    clip_results = classifier.classify_clip(ictal_test_data, sf)\n",
    "    final_decision = post_processor.process_clip_results(clip_results)\n",
    "    print(f\"  - Ictal {i}: Final Decision -> {final_decision}\")"
   ]
  },
  {
   "cell_type": "code",
   "execution_count": 62,
   "id": "10d0759b",
   "metadata": {},
   "outputs": [
    {
     "name": "stdout",
     "output_type": "stream",
     "text": [
      "  - Interictal 1: Final Decision -> NON-SEIZURE\n",
      "  - Interictal 2: Final Decision -> NON-SEIZURE\n",
      "  - Interictal 3: Final Decision -> NON-SEIZURE\n",
      "  - Interictal 4: Final Decision -> NON-SEIZURE\n",
      "  - Interictal 5: Final Decision -> NON-SEIZURE\n"
     ]
    }
   ],
   "source": [
    "# Interictal Test\n",
    "for i in range(1, 6):\n",
    "    interictal_test_file = f'test_data/Patient_1_interictal_segment_000{i}.mat.zip'\n",
    "    interictal_test_raw = load_mat_to_mne(interictal_test_file, 'seeg', 500)\n",
    "    interictal_test_data = interictal_test_raw.get_data()\n",
    "    \n",
    "    clip_results = classifier.classify_clip(interictal_test_data, sf)\n",
    "    final_decision = post_processor.process_clip_results(clip_results)\n",
    "    print(f\"  - Interictal {i}: Final Decision -> {final_decision}\")"
   ]
  },
  {
   "cell_type": "code",
   "execution_count": null,
   "id": "086e9bfc",
   "metadata": {},
   "outputs": [],
   "source": []
  }
 ],
 "metadata": {
  "kernelspec": {
   "display_name": "cn",
   "language": "python",
   "name": "python3"
  },
  "language_info": {
   "codemirror_mode": {
    "name": "ipython",
    "version": 3
   },
   "file_extension": ".py",
   "mimetype": "text/x-python",
   "name": "python",
   "nbconvert_exporter": "python",
   "pygments_lexer": "ipython3",
   "version": "3.12.11"
  }
 },
 "nbformat": 4,
 "nbformat_minor": 5
}
